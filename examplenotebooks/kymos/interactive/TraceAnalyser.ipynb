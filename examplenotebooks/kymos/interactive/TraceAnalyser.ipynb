{
 "cells": [
  {
   "cell_type": "code",
   "execution_count": 1,
   "metadata": {},
   "outputs": [],
   "source": [
    "%matplotlib widget\n",
    "\n",
    "# Imports\n",
    "from ctraptools.kymos.interactive import TraceAnalyser\n",
    "from os.path import join\n",
    "import lumicks.pylake as lk"
   ]
  },
  {
   "cell_type": "code",
   "execution_count": null,
   "metadata": {},
   "outputs": [],
   "source": [
    "# Load the kymograph and trace to plot\n",
    "filepath = \"\"\n",
    "filename = \"\"\n",
    "h5_file = lk.File(join(filepath, filename))\n",
    "\n",
    "kymo_name = list(h5_file.kymos)[0]\n",
    "kymo = h5_file.kymos[kymo_name]\n",
    "\n",
    "time_ns = h5_file['Force LF']['Trap 1'].timestamps\n",
    "data = h5_file['Force LF']['Trap 1'].data"
   ]
  },
  {
   "cell_type": "code",
   "execution_count": null,
   "metadata": {},
   "outputs": [],
   "source": [
    "# Displaying the trace analyser\n",
    "analyser = TraceAnalyser(kymo, time_ns=time_ns, data=data, px_min=0, px_max=10, hist_n_bins=100)"
   ]
  }
 ],
 "metadata": {
  "kernelspec": {
   "display_name": "pylake",
   "language": "python",
   "name": "python3"
  },
  "language_info": {
   "codemirror_mode": {
    "name": "ipython",
    "version": 3
   },
   "file_extension": ".py",
   "mimetype": "text/x-python",
   "name": "python",
   "nbconvert_exporter": "python",
   "pygments_lexer": "ipython3",
   "version": "3.9.6"
  },
  "orig_nbformat": 4,
  "vscode": {
   "interpreter": {
    "hash": "486ff05d83518e025ba7bfd79171561104bf3a51483b9d02eb0981ebbfc72f1c"
   }
  }
 },
 "nbformat": 4,
 "nbformat_minor": 2
}
