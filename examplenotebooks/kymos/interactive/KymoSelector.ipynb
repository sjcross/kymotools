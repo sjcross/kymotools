{
 "cells": [
  {
   "cell_type": "code",
   "execution_count": null,
   "metadata": {},
   "outputs": [],
   "source": [
    "%matplotlib widget\n",
    "\n",
    "# Imports\n",
    "import lumicks.pylake as lk\n",
    "\n",
    "from os.path import join\n",
    "from ctraptools.kymos.interactive import KymoSelector"
   ]
  },
  {
   "cell_type": "code",
   "execution_count": null,
   "metadata": {},
   "outputs": [],
   "source": [
    "# Load the kymograph\n",
    "filepath = \"\"\n",
    "filename = \"\"\n",
    "h5_file = lk.File(join(filepath, filename))\n",
    "\n",
    "kymo_name = list(h5_file.kymos)[0]\n",
    "kymo = h5_file.kymos[kymo_name]"
   ]
  },
  {
   "cell_type": "code",
   "execution_count": null,
   "metadata": {},
   "outputs": [],
   "source": [
    "# Displaying the frame range selector\n",
    "frs = KymoSelector(kymo,px_min=0,px_max=50)"
   ]
  },
  {
   "cell_type": "code",
   "execution_count": null,
   "metadata": {},
   "outputs": [],
   "source": [
    "# Displaying the chosen frame range\n",
    "(x_min, x_max) = frs.get_range()\n",
    "print(\"Minimum: \",x_min)\n",
    "print(\"Maximum: \",x_max)"
   ]
  }
 ],
 "metadata": {
  "kernelspec": {
   "display_name": ".venv",
   "language": "python",
   "name": "python3"
  },
  "language_info": {
   "codemirror_mode": {
    "name": "ipython",
    "version": 3
   },
   "file_extension": ".py",
   "mimetype": "text/x-python",
   "name": "python",
   "nbconvert_exporter": "python",
   "pygments_lexer": "ipython3",
   "version": "3.9.6"
  }
 },
 "nbformat": 4,
 "nbformat_minor": 2
}
