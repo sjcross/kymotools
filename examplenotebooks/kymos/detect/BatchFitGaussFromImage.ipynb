{
 "cells": [
  {
   "cell_type": "code",
   "execution_count": 1,
   "metadata": {},
   "outputs": [
    {
     "name": "stderr",
     "output_type": "stream",
     "text": [
      "/Users/sc13967/Documents/Programming/Python/ctraptools/.venv/lib/python3.9/site-packages/urllib3/__init__.py:34: NotOpenSSLWarning: urllib3 v2 only supports OpenSSL 1.1.1+, currently the 'ssl' module is compiled with 'LibreSSL 2.8.3'. See: https://github.com/urllib3/urllib3/issues/3020\n",
      "  warnings.warn(\n"
     ]
    }
   ],
   "source": [
    "from ctraptools.kymos.detect import Detector\n",
    "from lumicks import pylake\n",
    "from n2v.models import N2V\n",
    "\n",
    "import stepfitter.stepfitter as sf\n",
    "import ctraptools.kymos.io as kio\n",
    "import numpy as np\n",
    "import os"
   ]
  },
  {
   "cell_type": "code",
   "execution_count": 2,
   "metadata": {},
   "outputs": [],
   "source": [
    "# Parameters\n",
    "path = \"/Users/sc13967/Documents/People/Gemma Fisher/Cropped/\"\n",
    "channel = 0"
   ]
  },
  {
   "cell_type": "code",
   "execution_count": 3,
   "metadata": {},
   "outputs": [
    {
     "name": "stdout",
     "output_type": "stream",
     "text": [
      "Loading network weights from '2024-02-02_Cropped_Keras.h5'.\n"
     ]
    }
   ],
   "source": [
    "# Loading N2V model\n",
    "model_name = '2024-02-02_Cropped_Keras'\n",
    "basedir = '/Users/sc13967/Documents/People/Gemma Fisher/N2V_Models'\n",
    "model = N2V(config=None, name=model_name, basedir=basedir)"
   ]
  },
  {
   "cell_type": "code",
   "execution_count": 4,
   "metadata": {},
   "outputs": [],
   "source": [
    "# Function to process single image\n",
    "def process_image(det_image,image,channel,output_name):\n",
    "    # Initialising Detector\n",
    "    detector = Detector(half_t_w=0,peak_det_thresh = 0.5, n_max=20, a_lb = 0.5, c_lb=3, c_ub=7, c_def=4, max_dist=15,min_track_length = 10,\n",
    "                    track_heritage_weight=100,starting_window=10)\n",
    "\n",
    "    # Detect peaks and track\n",
    "    tracks = detector.detect(det_image)\n",
    "\n",
    "    # Measuring intensity\n",
    "    for track in tracks.values():\n",
    "        track.measure_intensity(image)\n",
    "    \n",
    "    # # Step fitting (to be added later)\n",
    "    sf.fit_steps(tracks,image)\n",
    "\n",
    "    # Saving files\n",
    "    kio.save_overlay(tracks,image,output_name+\"_overlay\")\n",
    "    kio.write_peak_traces(tracks,output_name+\"_traces\")\n",
    "    kio.save_plots(tracks,output_name+\"_traces\")\n",
    "    kio.write_change_points(tracks,output_name+'_steps')"
   ]
  },
  {
   "cell_type": "code",
   "execution_count": null,
   "metadata": {},
   "outputs": [
    {
     "name": "stdout",
     "output_type": "stream",
     "text": [
      "Processing:  20231206-172220 Marker 20_kymo20\n",
      "1/1 [==============================] - 0s 223ms/step\n"
     ]
    },
    {
     "name": "stderr",
     "output_type": "stream",
     "text": [
      " 50%|████████████████████████████████████████████████████████████████████████████████████████                                                                                        | 1/2 [00:00<00:00, 33288.13it/s]"
     ]
    },
    {
     "name": "stdout",
     "output_type": "stream",
     "text": [
      "1/1 [==============================] - 0s 113ms/step\n"
     ]
    },
    {
     "name": "stderr",
     "output_type": "stream",
     "text": [
      "100%|███████████████████████████████████████████████████████████████████████████████████████████████████████████████████████████████████████████████████████████████████████████████████| 2/2 [00:00<00:00, 14.63it/s]\n",
      "100%|███████████████████████████████████████████████████████████████████████████████████████████████████████████████████████████████████████████████████████████████████████████████| 282/282 [00:03<00:00, 73.81it/s]\n",
      "/Users/sc13967/Documents/Programming/Python/ctraptools/.venv/lib/python3.9/site-packages/ctraptools/kymos/kymo.py:35: RuntimeWarning: Mean of empty slice.\n",
      "  self.intensity[t] = image[x-half_x_w:x+half_x_w,t].mean()\n",
      "/Users/sc13967/Documents/Programming/Python/ctraptools/.venv/lib/python3.9/site-packages/numpy/core/_methods.py:129: RuntimeWarning: invalid value encountered in divide\n",
      "  ret = ret.dtype.type(ret / rcount)\n"
     ]
    },
    {
     "name": "stdout",
     "output_type": "stream",
     "text": [
      "Processing:  .DS_Store\n",
      "Processing:  20231206-150748 Marker 9_kymo8\n",
      "1/1 [==============================] - 0s 286ms/step\n"
     ]
    },
    {
     "name": "stderr",
     "output_type": "stream",
     "text": [
      " 50%|████████████████████████████████████████████████████████████████████████████████████████                                                                                        | 1/2 [00:00<00:00, 85598.04it/s]"
     ]
    },
    {
     "name": "stdout",
     "output_type": "stream",
     "text": [
      "1/1 [==============================] - 0s 180ms/step\n"
     ]
    },
    {
     "name": "stderr",
     "output_type": "stream",
     "text": [
      "100%|███████████████████████████████████████████████████████████████████████████████████████████████████████████████████████████████████████████████████████████████████████████████████| 2/2 [00:00<00:00, 10.06it/s]\n",
      "100%|██████████████████████████████████████████████████████████████████████████████████████████████████████████████████████████████████████████████████████████████████████████████| 490/490 [00:02<00:00, 220.13it/s]\n"
     ]
    },
    {
     "name": "stdout",
     "output_type": "stream",
     "text": [
      "Processing:  20231206-162309 Marker 15_kymo15\n",
      "1/1 [==============================] - 1s 502ms/step\n"
     ]
    },
    {
     "name": "stderr",
     "output_type": "stream",
     "text": [
      " 50%|███████████████████████████████████████████████████████████████████████████████████████▌                                                                                       | 1/2 [00:00<00:00, 110376.42it/s]"
     ]
    },
    {
     "name": "stdout",
     "output_type": "stream",
     "text": [
      "1/1 [==============================] - 0s 427ms/step\n"
     ]
    },
    {
     "name": "stderr",
     "output_type": "stream",
     "text": [
      "100%|███████████████████████████████████████████████████████████████████████████████████████████████████████████████████████████████████████████████████████████████████████████████████| 2/2 [00:00<00:00,  4.48it/s]\n",
      "100%|████████████████████████████████████████████████████████████████████████████████████████████████████████████████████████████████████████████████████████████████████████████| 1251/1251 [00:05<00:00, 242.07it/s]\n"
     ]
    },
    {
     "name": "stdout",
     "output_type": "stream",
     "text": [
      "Processing:  20231206-161613 Marker 14_kymo14\n",
      "1/1 [==============================] - 0s 148ms/step\n"
     ]
    },
    {
     "name": "stderr",
     "output_type": "stream",
     "text": [
      " 50%|███████████████████████████████████████████████████████████████████████████████████████▌                                                                                       | 1/2 [00:00<00:00, 113359.57it/s]"
     ]
    },
    {
     "name": "stdout",
     "output_type": "stream",
     "text": [
      "1/1 [==============================] - 0s 112ms/step\n"
     ]
    },
    {
     "name": "stderr",
     "output_type": "stream",
     "text": [
      "100%|███████████████████████████████████████████████████████████████████████████████████████████████████████████████████████████████████████████████████████████████████████████████████| 2/2 [00:00<00:00, 15.24it/s]\n",
      "100%|██████████████████████████████████████████████████████████████████████████████████████████████████████████████████████████████████████████████████████████████████████████████| 272/272 [00:01<00:00, 249.11it/s]\n"
     ]
    },
    {
     "name": "stdout",
     "output_type": "stream",
     "text": [
      "Processing:  20231206-170443 Marker 18_kymo18\n",
      "1/1 [==============================] - 0s 278ms/step\n"
     ]
    },
    {
     "name": "stderr",
     "output_type": "stream",
     "text": [
      " 50%|████████████████████████████████████████████████████████████████████████████████████████                                                                                        | 1/2 [00:00<00:00, 99864.38it/s]"
     ]
    },
    {
     "name": "stdout",
     "output_type": "stream",
     "text": [
      "1/1 [==============================] - 0s 163ms/step\n"
     ]
    },
    {
     "name": "stderr",
     "output_type": "stream",
     "text": [
      "100%|███████████████████████████████████████████████████████████████████████████████████████████████████████████████████████████████████████████████████████████████████████████████████| 2/2 [00:00<00:00, 10.98it/s]\n",
      "  3%|█████                                                                                                                                                                         | 13/450 [07:52<4:22:33, 36.05s/it]"
     ]
    }
   ],
   "source": [
    "# Loading image and calculating paths\n",
    "for f in os.listdir(path):\n",
    "    name = os.path.basename(os.path.splitext(f)[0])\n",
    "    print(\"Processing: \",name)\n",
    "    if os.path.splitext(f)[1] == \".tif\":\n",
    "        image = kio.read_image(path+f,channel,x_range=None)\n",
    "        det_image = model.predict(image, axes='YX', n_tiles=(2,1))\n",
    "        det_image = det_image - np.min(det_image[:])\n",
    "        output_name = path+name+'_C'+str(channel)\n",
    "        process_image(det_image,image, channel, output_name)\n",
    "    elif os.path.splitext(f)[1] == \".h5\" or os.path.splitext(f)[1] == \".hdf5\":\n",
    "        file = pylake.File(path+f)\n",
    "        for (idx,kymo) in enumerate(file.kymos.values()):\n",
    "            image = kymo.get_image()[:,:,channel]\n",
    "            det_image = model.predict(image, axes='YX', n_tiles=(2,1))\n",
    "            det_image = det_image - np.min(det_image[:])\n",
    "            output_name = path+name+'_C'+str(channel)+'_kymo'+str(idx+1)\n",
    "            process_image(det_image,image, channel, output_name)        \n",
    "    else:\n",
    "        continue"
   ]
  },
  {
   "cell_type": "code",
   "execution_count": null,
   "metadata": {},
   "outputs": [],
   "source": []
  }
 ],
 "metadata": {
  "kernelspec": {
   "display_name": "Python 3 (ipykernel)",
   "language": "python",
   "name": "python3"
  },
  "language_info": {
   "codemirror_mode": {
    "name": "ipython",
    "version": 3
   },
   "file_extension": ".py",
   "mimetype": "text/x-python",
   "name": "python",
   "nbconvert_exporter": "python",
   "pygments_lexer": "ipython3",
   "version": "3.9.6"
  },
  "vscode": {
   "interpreter": {
    "hash": "486ff05d83518e025ba7bfd79171561104bf3a51483b9d02eb0981ebbfc72f1c"
   }
  }
 },
 "nbformat": 4,
 "nbformat_minor": 4
}
