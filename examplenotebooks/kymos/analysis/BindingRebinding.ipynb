{
 "cells": [
  {
   "cell_type": "code",
   "execution_count": null,
   "metadata": {},
   "outputs": [],
   "source": [
    "%matplotlib widget\n",
    "\n",
    "# Imports\n",
    "from ctraptools.kymos.detect import Detector\n",
    "from ctraptools.kymos.interactive import KymoSelector\n",
    "from lumicks import pylake\n",
    "\n",
    "import ctraptools.kymos.io as kio\n",
    "import numpy as np\n",
    "import tifffile"
   ]
  },
  {
   "cell_type": "code",
   "execution_count": null,
   "metadata": {},
   "outputs": [],
   "source": [
    "# Parameters\n",
    "filepath = \"\"\n",
    "filename = \"\"\n",
    "extension = \"\"\n",
    "channel = 0"
   ]
  },
  {
   "cell_type": "code",
   "execution_count": null,
   "metadata": {},
   "outputs": [],
   "source": [
    "# Getting kymograph\n",
    "file = pylake.File(filepath+filename+\".\"+extension)\n",
    "kymo = next(iter(file.kymos.values()))\n",
    "\n",
    "frs = KymoSelector(kymo,px_min=0,px_max=50,channel='blue')"
   ]
  },
  {
   "cell_type": "code",
   "execution_count": null,
   "metadata": {},
   "outputs": [],
   "source": [
    "(range_min,range_max) = frs.get_range()\n",
    "\n",
    "image = kymo.get_image()[:,range_min:range_max,channel]\n",
    "\n",
    "fr_str = \"fr\"+str(range_min)+\"-\"+str(range_max)\n",
    "tifffile.imwrite(\n",
    "            filepath+filename+\"_\"+fr_str+\"_raw.tif\", \n",
    "            kymo.get_image().astype(np.single)\n",
    "        )"
   ]
  },
  {
   "cell_type": "code",
   "execution_count": null,
   "metadata": {},
   "outputs": [],
   "source": [
    "# Detecting tracks\n",
    "detector = Detector(half_t_w=0,peak_det_thresh = 12, n_max=5, c_ub=6, c_def=4, max_dist=6,max_frame_gap=50, min_track_length = 100, min_track_density=0.5, track_heritage_weight=100)\n",
    "tracks = detector.detect(image)"
   ]
  },
  {
   "cell_type": "code",
   "execution_count": null,
   "metadata": {},
   "outputs": [],
   "source": [
    "# Saving files\n",
    "kio.write_peak_traces(tracks,filepath+filename+\"_\"+fr_str+'_C'+str(channel)+\"_traces\")\n",
    "kio.save_overlay(tracks,image,filepath+filename+\"_\"+fr_str+'_C'+str(channel)+\"_overlay\")\n"
   ]
  },
  {
   "cell_type": "code",
   "execution_count": null,
   "metadata": {},
   "outputs": [],
   "source": [
    "link_dist = 2\n",
    "\n",
    "for track in tracks.values():\n",
    "    prob = track.calculate_stationary_probability(image.shape)\n",
    "\n",
    "    tifffile.imwrite(filepath+filename+\"_\"+fr_str+\"_track\"+str(track.ID)+\"_prob.tif\", prob.astype(np.single))\n",
    "    "
   ]
  }
 ],
 "metadata": {
  "kernelspec": {
   "display_name": ".venv",
   "language": "python",
   "name": "python3"
  },
  "language_info": {
   "codemirror_mode": {
    "name": "ipython",
    "version": 3
   },
   "file_extension": ".py",
   "mimetype": "text/x-python",
   "name": "python",
   "nbconvert_exporter": "python",
   "pygments_lexer": "ipython3",
   "version": "3.9.6"
  }
 },
 "nbformat": 4,
 "nbformat_minor": 2
}
