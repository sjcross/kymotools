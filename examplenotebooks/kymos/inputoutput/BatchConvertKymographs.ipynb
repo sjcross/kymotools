{
 "cells": [
  {
   "cell_type": "code",
   "execution_count": null,
   "id": "suitable-problem",
   "metadata": {},
   "outputs": [],
   "source": [
    "# Import \n",
    "from ctraptools.kymos.io import batch_save_kymos\n",
    "\n",
    "# Parameters\n",
    "input_path = \"\"\n",
    "output_path = \"\"\n",
    "output_range = None # [(0,21),(0,215),(0,12)] # Set to None for \"raw\" intensities\n",
    "\n",
    "# Running the export\n",
    "batch_save_kymos(input_path,output_path,output_range=output_range)\n"
   ]
  }
 ],
 "metadata": {
  "kernelspec": {
   "display_name": "Python 3 (ipykernel)",
   "language": "python",
   "name": "python3"
  },
  "language_info": {
   "codemirror_mode": {
    "name": "ipython",
    "version": 3
   },
   "file_extension": ".py",
   "mimetype": "text/x-python",
   "name": "python",
   "nbconvert_exporter": "python",
   "pygments_lexer": "ipython3",
   "version": "3.9.6"
  },
  "vscode": {
   "interpreter": {
    "hash": "486ff05d83518e025ba7bfd79171561104bf3a51483b9d02eb0981ebbfc72f1c"
   }
  }
 },
 "nbformat": 4,
 "nbformat_minor": 5
}
